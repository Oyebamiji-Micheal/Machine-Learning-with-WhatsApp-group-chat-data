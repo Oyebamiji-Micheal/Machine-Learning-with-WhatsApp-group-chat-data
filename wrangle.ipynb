{
 "cells": [
  {
   "cell_type": "markdown",
   "id": "bca576cf",
   "metadata": {},
   "source": [
    "# Machine Learning with WhatsApp Group Chat Dataset"
   ]
  },
  {
   "cell_type": "markdown",
   "id": "25744770",
   "metadata": {},
   "source": [
    "## Data Wrangling\n",
    "With the exception of messages which spawns across multiple lines, each line of a typical exported WhatsApp data contains the date and time a message was sent along with its corresponding author; and of course the message too. Some lines of text however are not messages sent by an author but by WhatsApp. For example, the message *'11/16/21, 10:31 AM - John joined using this group's invite link'* means a particular user joined the group on the specified date - this is actually not sent by the user. A similar trend is seen when someone leaves a group or changes their mobile number and so on. Messages such as these (without author) will be handled by the `validate_author` function.\n",
    "<br><br>\n",
    "The function, `validate_message`, is responsible for checking whether a message is a continuation of a previous message or a new message entirely. Lastly, the function, `parser`, extracts and returns the needed attributes."
   ]
  },
  {
   "cell_type": "code",
   "execution_count": 1,
   "id": "ae83c920",
   "metadata": {},
   "outputs": [],
   "source": [
    "import re"
   ]
  },
  {
   "cell_type": "markdown",
   "id": "22824e8d",
   "metadata": {},
   "source": [
    "###  Validate Message"
   ]
  },
  {
   "cell_type": "code",
   "execution_count": 2,
   "id": "71f6fdda",
   "metadata": {},
   "outputs": [],
   "source": [
    "def validate_message(line):\n",
    "    \"\"\"Return True if a line is a new message\n",
    "    and False if line is a multiline message.\n",
    "    \"\"\"\n",
    "    pattern = r'^\\d+\\/\\d+\\/\\d+, \\d+:\\d+ (PM|AM) -'\n",
    "    checker = re.match(pattern, line)\n",
    "    if checker:\n",
    "        return True\n",
    "    return False"
   ]
  },
  {
   "cell_type": "markdown",
   "id": "4cfe1221",
   "metadata": {},
   "source": [
    "### Extract Message Author"
   ]
  },
  {
   "cell_type": "code",
   "execution_count": 3,
   "id": "34b22710",
   "metadata": {},
   "outputs": [],
   "source": [
    "def validate_author(message):\n",
    "    \"\"\"Return True if a message has an author\n",
    "    otherwise False.\n",
    "    \"\"\"\n",
    "    pattern = r'^(\\+\\d{3} \\d{3} \\d{3} \\d{4}):|(\\w+):|(\\w+\\s+\\w+):'\n",
    "    checker = re.match(pattern, message)\n",
    "    if checker:\n",
    "        return True\n",
    "    return False"
   ]
  },
  {
   "cell_type": "markdown",
   "id": "f4aef58a",
   "metadata": {},
   "source": [
    "### Parse raw data into its attributes"
   ]
  },
  {
   "cell_type": "code",
   "execution_count": 4,
   "id": "b9889d26",
   "metadata": {},
   "outputs": [],
   "source": [
    "def parser(line):\n",
    "    \"\"\"Extract and return data attributes.  \n",
    "    \"\"\"\n",
    "    line = line.split(' - ')\n",
    "    date_time = line[0].split(', ')\n",
    "    date = date_time[0]\n",
    "    time = date_time[1]\n",
    "    message = ' '.join(line[1:])\n",
    "    if validate_author(message):\n",
    "        author_message = message.split(': ')\n",
    "        author = author_message[0]\n",
    "        message = ' '.join(author_message[1:])\n",
    "    else:\n",
    "        author = None\n",
    "    return date, time, author, message"
   ]
  },
  {
   "cell_type": "markdown",
   "id": "ea76d914",
   "metadata": {},
   "source": [
    "### Write parsed data into a comma separated file"
   ]
  },
  {
   "cell_type": "code",
   "execution_count": 10,
   "id": "4ec901fd",
   "metadata": {
    "scrolled": true
   },
   "outputs": [],
   "source": [
    "# The raw data is present in the current working directory\n",
    "# Parenthesized context managers which is a feature of Python 3.10.x\n",
    "# is not used. \n",
    "def writer():\n",
    "    with open('attachment.txt', 'r', encoding='utf-8') as file_read, \\\n",
    "         open('dataset.csv', 'a', encoding='utf-8') as file_write:\n",
    "        multiline_message = ''\n",
    "        lines = file_read.readlines()\n",
    "        for idx, line in enumerate(lines):\n",
    "            line = line.strip()\n",
    "            if validate_message(line):\n",
    "                if multiline_message:\n",
    "                    file_write.write(f'{date},{time},{author},\"{multiline_message}\"\\n')\n",
    "                multiline_message = ''\n",
    "                date, time, author, message = parser(line)\n",
    "                multiline_message += message\n",
    "            else:\n",
    "                multiline_message += f' {line}'\n",
    "\n",
    "                \n",
    "if __name__ == \"__main__\":\n",
    "    writer()"
   ]
  }
 ],
 "metadata": {
  "kernelspec": {
   "display_name": "Python [conda env:root] *",
   "language": "python",
   "name": "conda-root-py"
  },
  "language_info": {
   "codemirror_mode": {
    "name": "ipython",
    "version": 3
   },
   "file_extension": ".py",
   "mimetype": "text/x-python",
   "name": "python",
   "nbconvert_exporter": "python",
   "pygments_lexer": "ipython3",
   "version": "3.7.6"
  }
 },
 "nbformat": 4,
 "nbformat_minor": 5
}
