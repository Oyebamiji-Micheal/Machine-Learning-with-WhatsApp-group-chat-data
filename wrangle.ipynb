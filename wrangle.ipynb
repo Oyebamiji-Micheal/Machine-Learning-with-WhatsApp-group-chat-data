{
 "cells": [
  {
   "cell_type": "markdown",
   "id": "bb45e319",
   "metadata": {},
   "source": [
    "# Machine Learning with WhatsApp Group Chat Dataset"
   ]
  },
  {
   "cell_type": "markdown",
   "id": "620b7968",
   "metadata": {},
   "source": [
    "## 1. Data Gathering\n",
    "With the exception of messages which spawns across multiple lines, each line of a typical exported WhatsApp data contains the date and time a message was sent along with its corresponding author; and of course the message too. Some lines of text however are not messages sent by an author but by WhatsApp. For example, the message *'11/16/21, 10:31 AM - John joined using this group's invite link'* means a particular user joined the group on the specified date - this is actually not sent by the user. A similar trend is seen when someone leaves a group or changes their mobile number and so on. Messages such as these (without author) will be handled by the `validate_author` function.\n",
    "<br><br>\n",
    "The function, `validate_message`, is responsible for checking whether a message is a continuation of a previous message or a new message entirely. Lastly, the function, `parser`, extracts and returns the needed attributes."
   ]
  },
  {
   "cell_type": "code",
   "execution_count": 143,
   "id": "0710783b",
   "metadata": {},
   "outputs": [],
   "source": [
    "import re"
   ]
  },
  {
   "cell_type": "markdown",
   "id": "4661e5a2",
   "metadata": {},
   "source": [
    "###  Validate Message"
   ]
  },
  {
   "cell_type": "code",
   "execution_count": 21,
   "id": "bbbd8ea1",
   "metadata": {},
   "outputs": [],
   "source": [
    "def validate_message(line):\n",
    "    \"\"\"Return True if a line is a new message\n",
    "    and False if line is a multiline message.\n",
    "    \"\"\"\n",
    "    pattern = r'^\\d+\\/\\d+\\/\\d+, \\d+:\\d+ (PM|AM) -'\n",
    "    checker = re.match(pattern, line)\n",
    "    if checker:\n",
    "        return True\n",
    "    return False"
   ]
  },
  {
   "cell_type": "markdown",
   "id": "f435ebeb",
   "metadata": {},
   "source": [
    "### Extract Message Author"
   ]
  },
  {
   "cell_type": "code",
   "execution_count": 109,
   "id": "33db577e",
   "metadata": {},
   "outputs": [],
   "source": [
    "def validate_author(message):\n",
    "    \"\"\"Return True if a message has an author\n",
    "    otherwise False.\n",
    "    \"\"\"\n",
    "    pattern = r'^(\\+\\d{3} \\d{3} \\d{3} \\d{4}):|(\\w+):|(\\w+\\s+\\w+):|(\\w+\\s+\\w+\\s+\\w+):'\n",
    "    checker = re.match(pattern, message)\n",
    "    if checker:\n",
    "        return True\n",
    "    return False"
   ]
  },
  {
   "cell_type": "markdown",
   "id": "831a5794",
   "metadata": {},
   "source": [
    "### Parse raw data into its attributes"
   ]
  },
  {
   "cell_type": "code",
   "execution_count": 29,
   "id": "8d49a9cd",
   "metadata": {},
   "outputs": [],
   "source": [
    "def parser(line):\n",
    "    \"\"\"Extract and return data attributes.  \n",
    "    \"\"\"\n",
    "    line = line.split(' - ')\n",
    "    date_time = line[0].split(', ')\n",
    "    date = date_time[0]\n",
    "    time = date_time[1]\n",
    "    message = ' '.join(line[1:])\n",
    "    if validate_author(message):\n",
    "        author_message = message.split(': ')\n",
    "        author = author_message[0]\n",
    "        message = ' '.join(author_message[1:])\n",
    "    else:\n",
    "        author = None\n",
    "    return date, time, author, message"
   ]
  },
  {
   "cell_type": "markdown",
   "id": "11f13e26",
   "metadata": {},
   "source": [
    "### Write parsed data into a comma separated file"
   ]
  },
  {
   "cell_type": "code",
   "execution_count": 30,
   "id": "f7c5b8f8",
   "metadata": {
    "scrolled": true
   },
   "outputs": [],
   "source": [
    "# The raw data is present in the current working directory\n",
    "# Parenthesized context managers which is a feature of Python 3.10.x\n",
    "# is not used. \n",
    "def writer():\n",
    "    with open('attachment.txt', 'r', encoding='utf-8') as file_read, \\\n",
    "         open('dataset.csv', 'a', encoding='utf-8') as file_write:\n",
    "        multiline_message = ''\n",
    "        lines = file_read.readlines()\n",
    "        for idx, line in enumerate(lines):\n",
    "            line = line.strip()\n",
    "            if validate_message(line):\n",
    "                if multiline_message:\n",
    "                    file_write.write(f'{date},{time},{author},\"{multiline_message}\"\\n')\n",
    "                multiline_message = ''\n",
    "                date, time, author, message = parser(line)\n",
    "                multiline_message += message\n",
    "            else:\n",
    "                multiline_message += f' {line}'\n",
    "\n",
    "                \n",
    "if __name__ == \"__main__\":\n",
    "    writer()"
   ]
  },
  {
   "cell_type": "markdown",
   "id": "fe5cebd5",
   "metadata": {},
   "source": [
    "## 2. Data Wrangling"
   ]
  },
  {
   "cell_type": "markdown",
   "id": "3d69220c",
   "metadata": {},
   "source": [
    "### 2.1 Assess\n",
    "Here, I accessed the quality and tidiness of the dataset by checking for erroneous datatypes, duplicates, missing value and so on."
   ]
  },
  {
   "cell_type": "code",
   "execution_count": 99,
   "id": "b1d97d6a",
   "metadata": {},
   "outputs": [],
   "source": [
    "import pandas as pd"
   ]
  },
  {
   "cell_type": "code",
   "execution_count": 100,
   "id": "c39448c2",
   "metadata": {},
   "outputs": [],
   "source": [
    "colnames = ['date', 'time', 'name', 'message'] \n",
    "df = pd.read_csv('dataset.csv', names=colnames, index_col=False, quotechar='\"')"
   ]
  },
  {
   "cell_type": "code",
   "execution_count": 101,
   "id": "a87d6ec3",
   "metadata": {},
   "outputs": [
    {
     "data": {
      "text/html": [
       "<div>\n",
       "<style scoped>\n",
       "    .dataframe tbody tr th:only-of-type {\n",
       "        vertical-align: middle;\n",
       "    }\n",
       "\n",
       "    .dataframe tbody tr th {\n",
       "        vertical-align: top;\n",
       "    }\n",
       "\n",
       "    .dataframe thead th {\n",
       "        text-align: right;\n",
       "    }\n",
       "</style>\n",
       "<table border=\"1\" class=\"dataframe\">\n",
       "  <thead>\n",
       "    <tr style=\"text-align: right;\">\n",
       "      <th></th>\n",
       "      <th>date</th>\n",
       "      <th>time</th>\n",
       "      <th>name</th>\n",
       "      <th>message</th>\n",
       "    </tr>\n",
       "  </thead>\n",
       "  <tbody>\n",
       "    <tr>\n",
       "      <th>0</th>\n",
       "      <td>8/22/21</td>\n",
       "      <td>8:21 AM</td>\n",
       "      <td>Skillup</td>\n",
       "      <td>Please someone should post the compiled zoom t...</td>\n",
       "    </tr>\n",
       "    <tr>\n",
       "      <th>1</th>\n",
       "      <td>8/22/21</td>\n",
       "      <td>5:07 PM</td>\n",
       "      <td>Rufus</td>\n",
       "      <td>https://arcg.is/0nyGPD0    The online medical ...</td>\n",
       "    </tr>\n",
       "    <tr>\n",
       "      <th>2</th>\n",
       "      <td>8/22/21</td>\n",
       "      <td>5:08 PM</td>\n",
       "      <td>Rufus</td>\n",
       "      <td>This stuff is long now</td>\n",
       "    </tr>\n",
       "    <tr>\n",
       "      <th>3</th>\n",
       "      <td>8/22/21</td>\n",
       "      <td>5:08 PM</td>\n",
       "      <td>Rufus</td>\n",
       "      <td>Does that did before did not fill this now</td>\n",
       "    </tr>\n",
       "    <tr>\n",
       "      <th>4</th>\n",
       "      <td>8/22/21</td>\n",
       "      <td>5:08 PM</td>\n",
       "      <td>Goodness CSC</td>\n",
       "      <td>Just fill the part I aspect</td>\n",
       "    </tr>\n",
       "  </tbody>\n",
       "</table>\n",
       "</div>"
      ],
      "text/plain": [
       "      date     time          name  \\\n",
       "0  8/22/21  8:21 AM       Skillup   \n",
       "1  8/22/21  5:07 PM         Rufus   \n",
       "2  8/22/21  5:08 PM         Rufus   \n",
       "3  8/22/21  5:08 PM         Rufus   \n",
       "4  8/22/21  5:08 PM  Goodness CSC   \n",
       "\n",
       "                                             message  \n",
       "0  Please someone should post the compiled zoom t...  \n",
       "1  https://arcg.is/0nyGPD0    The online medical ...  \n",
       "2                             This stuff is long now  \n",
       "3         Does that did before did not fill this now  \n",
       "4                        Just fill the part I aspect  "
      ]
     },
     "execution_count": 101,
     "metadata": {},
     "output_type": "execute_result"
    }
   ],
   "source": [
    "df.head()"
   ]
  },
  {
   "cell_type": "code",
   "execution_count": 102,
   "id": "8a9ffbce",
   "metadata": {},
   "outputs": [
    {
     "data": {
      "text/plain": [
       "(29777, 4)"
      ]
     },
     "execution_count": 102,
     "metadata": {},
     "output_type": "execute_result"
    }
   ],
   "source": [
    "df.shape"
   ]
  },
  {
   "cell_type": "code",
   "execution_count": 103,
   "id": "93b56f7d",
   "metadata": {},
   "outputs": [
    {
     "name": "stdout",
     "output_type": "stream",
     "text": [
      "<class 'pandas.core.frame.DataFrame'>\n",
      "RangeIndex: 29777 entries, 0 to 29776\n",
      "Data columns (total 4 columns):\n",
      " #   Column   Non-Null Count  Dtype \n",
      "---  ------   --------------  ----- \n",
      " 0   date     29777 non-null  object\n",
      " 1   time     29777 non-null  object\n",
      " 2   name     29777 non-null  object\n",
      " 3   message  29754 non-null  object\n",
      "dtypes: object(4)\n",
      "memory usage: 930.7+ KB\n"
     ]
    }
   ],
   "source": [
    "df.info()"
   ]
  },
  {
   "cell_type": "code",
   "execution_count": 142,
   "id": "a3382af4",
   "metadata": {
    "scrolled": false
   },
   "outputs": [
    {
     "data": {
      "text/html": [
       "<div>\n",
       "<style scoped>\n",
       "    .dataframe tbody tr th:only-of-type {\n",
       "        vertical-align: middle;\n",
       "    }\n",
       "\n",
       "    .dataframe tbody tr th {\n",
       "        vertical-align: top;\n",
       "    }\n",
       "\n",
       "    .dataframe thead th {\n",
       "        text-align: right;\n",
       "    }\n",
       "</style>\n",
       "<table border=\"1\" class=\"dataframe\">\n",
       "  <thead>\n",
       "    <tr style=\"text-align: right;\">\n",
       "      <th></th>\n",
       "      <th>date</th>\n",
       "      <th>time</th>\n",
       "      <th>name</th>\n",
       "      <th>message</th>\n",
       "    </tr>\n",
       "  </thead>\n",
       "  <tbody>\n",
       "    <tr>\n",
       "      <th>398</th>\n",
       "      <td>2021-08-28</td>\n",
       "      <td>07:01:00</td>\n",
       "      <td>None</td>\n",
       "      <td>T!: *FREE FREE FREE*🥺🥺🥺  *PSSF*  tutorial is h...</td>\n",
       "    </tr>\n",
       "    <tr>\n",
       "      <th>426</th>\n",
       "      <td>2021-08-29</td>\n",
       "      <td>12:48:00</td>\n",
       "      <td>None</td>\n",
       "      <td>T!: *FREE FREE FREE*🥺🥺🥺  *PSSF*  tutorial is h...</td>\n",
       "    </tr>\n",
       "  </tbody>\n",
       "</table>\n",
       "</div>"
      ],
      "text/plain": [
       "          date      time  name  \\\n",
       "398 2021-08-28  07:01:00  None   \n",
       "426 2021-08-29  12:48:00  None   \n",
       "\n",
       "                                               message  \n",
       "398  T!: *FREE FREE FREE*🥺🥺🥺  *PSSF*  tutorial is h...  \n",
       "426  T!: *FREE FREE FREE*🥺🥺🥺  *PSSF*  tutorial is h...  "
      ]
     },
     "execution_count": 142,
     "metadata": {},
     "output_type": "execute_result"
    }
   ],
   "source": [
    "df.query('name==\"None\"').head(2)"
   ]
  },
  {
   "cell_type": "code",
   "execution_count": 141,
   "id": "e0995039",
   "metadata": {},
   "outputs": [
    {
     "data": {
      "text/html": [
       "<div>\n",
       "<style scoped>\n",
       "    .dataframe tbody tr th:only-of-type {\n",
       "        vertical-align: middle;\n",
       "    }\n",
       "\n",
       "    .dataframe tbody tr th {\n",
       "        vertical-align: top;\n",
       "    }\n",
       "\n",
       "    .dataframe thead th {\n",
       "        text-align: right;\n",
       "    }\n",
       "</style>\n",
       "<table border=\"1\" class=\"dataframe\">\n",
       "  <thead>\n",
       "    <tr style=\"text-align: right;\">\n",
       "      <th></th>\n",
       "      <th>date</th>\n",
       "      <th>time</th>\n",
       "      <th>name</th>\n",
       "      <th>message</th>\n",
       "    </tr>\n",
       "  </thead>\n",
       "  <tbody>\n",
       "    <tr>\n",
       "      <th>10221</th>\n",
       "      <td>2021-11-20</td>\n",
       "      <td>16:52:00</td>\n",
       "      <td>Victor Iroko</td>\n",
       "      <td>NaN</td>\n",
       "    </tr>\n",
       "    <tr>\n",
       "      <th>14636</th>\n",
       "      <td>2022-01-24</td>\n",
       "      <td>17:34:00</td>\n",
       "      <td></td>\n",
       "      <td>NaN</td>\n",
       "    </tr>\n",
       "    <tr>\n",
       "      <th>18648</th>\n",
       "      <td>2022-02-08</td>\n",
       "      <td>23:04:00</td>\n",
       "      <td>Tola</td>\n",
       "      <td>NaN</td>\n",
       "    </tr>\n",
       "    <tr>\n",
       "      <th>18841</th>\n",
       "      <td>2022-02-09</td>\n",
       "      <td>00:28:00</td>\n",
       "      <td>Dike</td>\n",
       "      <td>NaN</td>\n",
       "    </tr>\n",
       "    <tr>\n",
       "      <th>19235</th>\n",
       "      <td>2022-02-10</td>\n",
       "      <td>21:08:00</td>\n",
       "      <td>Victor Iroko</td>\n",
       "      <td>NaN</td>\n",
       "    </tr>\n",
       "  </tbody>\n",
       "</table>\n",
       "</div>"
      ],
      "text/plain": [
       "            date      time          name message\n",
       "10221 2021-11-20  16:52:00  Victor Iroko     NaN\n",
       "14636 2022-01-24  17:34:00                   NaN\n",
       "18648 2022-02-08  23:04:00          Tola     NaN\n",
       "18841 2022-02-09  00:28:00          Dike     NaN\n",
       "19235 2022-02-10  21:08:00  Victor Iroko     NaN"
      ]
     },
     "execution_count": 141,
     "metadata": {},
     "output_type": "execute_result"
    }
   ],
   "source": [
    "df[df.message.isnull()].head()"
   ]
  },
  {
   "cell_type": "markdown",
   "id": "61f2afe9",
   "metadata": {},
   "source": [
    "After assessing the dataset, the following issues were suspected and will be addressed in the next section.\n",
    "\n",
    "- Missing values in `message` and `name` columns\n",
    "- Inconsistent author names - some author names are numbers \n",
    "- Erroneous column data type"
   ]
  },
  {
   "cell_type": "markdown",
   "id": "0e4a9eda",
   "metadata": {},
   "source": [
    "### 2.2 Clean"
   ]
  },
  {
   "cell_type": "markdown",
   "id": "e11d6689",
   "metadata": {},
   "source": [
    "#### Missing Values"
   ]
  },
  {
   "cell_type": "code",
   "execution_count": 106,
   "id": "5d21c694",
   "metadata": {},
   "outputs": [],
   "source": [
    "# Drop rows containing no author or message \n",
    "df['message'].dropna(inplace=True)\n",
    "df['name'].dropna(inplace=True)"
   ]
  },
  {
   "cell_type": "markdown",
   "id": "001f4543",
   "metadata": {},
   "source": [
    "#### Inconsistent Author Names"
   ]
  },
  {
   "cell_type": "code",
   "execution_count": 123,
   "id": "9224cad9",
   "metadata": {},
   "outputs": [],
   "source": [
    "# Replace numbers with actual names\n",
    "df['name'].unique()[4]\n",
    "\n",
    "mapping = {\n",
    "    '+234 *** ***': 'Jago_Official', '+234 *** ***': 'Oluwasanmi Oluwatimi',\n",
    "    '+234 *** ***': 'Hi Bee Kay', '+234 *** ***': 'Orehub',\n",
    "}\n",
    "\n",
    "df['name'] = df['name'].replace(mapping)"
   ]
  },
  {
   "cell_type": "markdown",
   "id": "4f1ca666",
   "metadata": {},
   "source": [
    "#### Erroneous Datatypes"
   ]
  },
  {
   "cell_type": "code",
   "execution_count": null,
   "id": "1da26ea2",
   "metadata": {},
   "outputs": [],
   "source": [
    "# Change column datatype to their respective format\n",
    "df['date'] = pd.to_datetime(df['date'])\n",
    "df['time'] = pd.to_datetime(df['time']).dt.time"
   ]
  },
  {
   "cell_type": "code",
   "execution_count": 138,
   "id": "c5450ce3",
   "metadata": {},
   "outputs": [],
   "source": [
    "# Write wrangled data to csv\n",
    "df.to_csv('cleaned_dataset.csv', index=None)"
   ]
  }
 ],
 "metadata": {
  "kernelspec": {
   "display_name": "Python [conda env:root] *",
   "language": "python",
   "name": "conda-root-py"
  },
  "language_info": {
   "codemirror_mode": {
    "name": "ipython",
    "version": 3
   },
   "file_extension": ".py",
   "mimetype": "text/x-python",
   "name": "python",
   "nbconvert_exporter": "python",
   "pygments_lexer": "ipython3",
   "version": "3.7.6"
  }
 },
 "nbformat": 4,
 "nbformat_minor": 5
}
