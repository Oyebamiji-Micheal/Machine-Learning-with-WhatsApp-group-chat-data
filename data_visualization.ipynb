{
 "cells": [
  {
   "cell_type": "markdown",
   "id": "c6c360de",
   "metadata": {},
   "source": [
    "# Machine Learning with WhatsApp Group Chat Dataset"
   ]
  },
  {
   "cell_type": "markdown",
   "id": "2eda524a",
   "metadata": {},
   "source": [
    "## Data Wrangling\n"
   ]
  },
  {
   "cell_type": "code",
   "execution_count": 63,
   "id": "3133496d",
   "metadata": {},
   "outputs": [],
   "source": [
    "import numpy as np\n",
    "import pandas as pd"
   ]
  },
  {
   "cell_type": "code",
   "execution_count": 55,
   "id": "72669624",
   "metadata": {
    "scrolled": true
   },
   "outputs": [],
   "source": [
    "df = pd.read_csv('cleaned_dataset.csv', index_col=False, quotechar='\"')"
   ]
  },
  {
   "cell_type": "code",
   "execution_count": 56,
   "id": "df3922d3",
   "metadata": {
    "scrolled": true
   },
   "outputs": [
    {
     "data": {
      "text/html": [
       "<div>\n",
       "<style scoped>\n",
       "    .dataframe tbody tr th:only-of-type {\n",
       "        vertical-align: middle;\n",
       "    }\n",
       "\n",
       "    .dataframe tbody tr th {\n",
       "        vertical-align: top;\n",
       "    }\n",
       "\n",
       "    .dataframe thead th {\n",
       "        text-align: right;\n",
       "    }\n",
       "</style>\n",
       "<table border=\"1\" class=\"dataframe\">\n",
       "  <thead>\n",
       "    <tr style=\"text-align: right;\">\n",
       "      <th></th>\n",
       "      <th>date</th>\n",
       "      <th>time</th>\n",
       "      <th>name</th>\n",
       "      <th>message</th>\n",
       "    </tr>\n",
       "  </thead>\n",
       "  <tbody>\n",
       "    <tr>\n",
       "      <th>0</th>\n",
       "      <td>2021-08-22</td>\n",
       "      <td>08:21:00</td>\n",
       "      <td>Skillup</td>\n",
       "      <td>Please someone should post the compiled zoom t...</td>\n",
       "    </tr>\n",
       "    <tr>\n",
       "      <th>1</th>\n",
       "      <td>2021-08-22</td>\n",
       "      <td>17:07:00</td>\n",
       "      <td>Rufus</td>\n",
       "      <td>https://arcg.is/0nyGPD0    The online medical ...</td>\n",
       "    </tr>\n",
       "    <tr>\n",
       "      <th>2</th>\n",
       "      <td>2021-08-22</td>\n",
       "      <td>17:08:00</td>\n",
       "      <td>Rufus</td>\n",
       "      <td>This stuff is long now</td>\n",
       "    </tr>\n",
       "    <tr>\n",
       "      <th>3</th>\n",
       "      <td>2021-08-22</td>\n",
       "      <td>17:08:00</td>\n",
       "      <td>Rufus</td>\n",
       "      <td>Does that did before did not fill this now</td>\n",
       "    </tr>\n",
       "    <tr>\n",
       "      <th>4</th>\n",
       "      <td>2021-08-22</td>\n",
       "      <td>17:08:00</td>\n",
       "      <td>Goodness CSC</td>\n",
       "      <td>Just fill the part I aspect</td>\n",
       "    </tr>\n",
       "    <tr>\n",
       "      <th>5</th>\n",
       "      <td>2021-08-22</td>\n",
       "      <td>17:08:00</td>\n",
       "      <td>Goodness CSC</td>\n",
       "      <td>Leave the rest</td>\n",
       "    </tr>\n",
       "    <tr>\n",
       "      <th>6</th>\n",
       "      <td>2021-08-22</td>\n",
       "      <td>17:10:00</td>\n",
       "      <td>Rufus</td>\n",
       "      <td>&lt;Media omitted&gt;</td>\n",
       "    </tr>\n",
       "    <tr>\n",
       "      <th>7</th>\n",
       "      <td>2021-08-22</td>\n",
       "      <td>18:07:00</td>\n",
       "      <td>David</td>\n",
       "      <td>???????</td>\n",
       "    </tr>\n",
       "  </tbody>\n",
       "</table>\n",
       "</div>"
      ],
      "text/plain": [
       "         date      time          name  \\\n",
       "0  2021-08-22  08:21:00       Skillup   \n",
       "1  2021-08-22  17:07:00         Rufus   \n",
       "2  2021-08-22  17:08:00         Rufus   \n",
       "3  2021-08-22  17:08:00         Rufus   \n",
       "4  2021-08-22  17:08:00  Goodness CSC   \n",
       "5  2021-08-22  17:08:00  Goodness CSC   \n",
       "6  2021-08-22  17:10:00         Rufus   \n",
       "7  2021-08-22  18:07:00         David   \n",
       "\n",
       "                                             message  \n",
       "0  Please someone should post the compiled zoom t...  \n",
       "1  https://arcg.is/0nyGPD0    The online medical ...  \n",
       "2                             This stuff is long now  \n",
       "3         Does that did before did not fill this now  \n",
       "4                        Just fill the part I aspect  \n",
       "5                                     Leave the rest  \n",
       "6                                    <Media omitted>  \n",
       "7                                            ???????  "
      ]
     },
     "execution_count": 56,
     "metadata": {},
     "output_type": "execute_result"
    }
   ],
   "source": [
    "df.head(8)"
   ]
  },
  {
   "cell_type": "code",
   "execution_count": 57,
   "id": "2065fa10",
   "metadata": {},
   "outputs": [
    {
     "name": "stdout",
     "output_type": "stream",
     "text": [
      "<class 'pandas.core.frame.DataFrame'>\n",
      "RangeIndex: 28536 entries, 0 to 28535\n",
      "Data columns (total 4 columns):\n",
      " #   Column   Non-Null Count  Dtype \n",
      "---  ------   --------------  ----- \n",
      " 0   date     28536 non-null  object\n",
      " 1   time     28536 non-null  object\n",
      " 2   name     28053 non-null  object\n",
      " 3   message  28513 non-null  object\n",
      "dtypes: object(4)\n",
      "memory usage: 891.9+ KB\n"
     ]
    }
   ],
   "source": [
    "df.info()"
   ]
  },
  {
   "cell_type": "markdown",
   "id": "ae376ec2",
   "metadata": {},
   "source": [
    "### Drop Messages Without Author"
   ]
  },
  {
   "cell_type": "code",
   "execution_count": 58,
   "id": "624be7a6",
   "metadata": {},
   "outputs": [
    {
     "data": {
      "text/plain": [
       "483"
      ]
     },
     "execution_count": 58,
     "metadata": {},
     "output_type": "execute_result"
    }
   ],
   "source": [
    "# Number of messages without author\n",
    "sum(df['name'].isnull())"
   ]
  },
  {
   "cell_type": "code",
   "execution_count": 59,
   "id": "c4add6b9",
   "metadata": {
    "scrolled": false
   },
   "outputs": [
    {
     "data": {
      "text/html": [
       "<div>\n",
       "<style scoped>\n",
       "    .dataframe tbody tr th:only-of-type {\n",
       "        vertical-align: middle;\n",
       "    }\n",
       "\n",
       "    .dataframe tbody tr th {\n",
       "        vertical-align: top;\n",
       "    }\n",
       "\n",
       "    .dataframe thead th {\n",
       "        text-align: right;\n",
       "    }\n",
       "</style>\n",
       "<table border=\"1\" class=\"dataframe\">\n",
       "  <thead>\n",
       "    <tr style=\"text-align: right;\">\n",
       "      <th></th>\n",
       "      <th>date</th>\n",
       "      <th>time</th>\n",
       "      <th>name</th>\n",
       "      <th>message</th>\n",
       "    </tr>\n",
       "  </thead>\n",
       "  <tbody>\n",
       "    <tr>\n",
       "      <th>386</th>\n",
       "      <td>2021-08-29</td>\n",
       "      <td>01:08:00</td>\n",
       "      <td>NaN</td>\n",
       "      <td>💎💎🔥🍷 *DO ACCORDING TO GOD'S WILL* 🌀 Thank u , ...</td>\n",
       "    </tr>\n",
       "    <tr>\n",
       "      <th>4308</th>\n",
       "      <td>2021-10-05</td>\n",
       "      <td>08:34:00</td>\n",
       "      <td>NaN</td>\n",
       "      <td>&lt;Media omitted&gt;</td>\n",
       "    </tr>\n",
       "    <tr>\n",
       "      <th>7349</th>\n",
       "      <td>2021-11-04</td>\n",
       "      <td>10:13:00</td>\n",
       "      <td>NaN</td>\n",
       "      <td>Omor 😂</td>\n",
       "    </tr>\n",
       "  </tbody>\n",
       "</table>\n",
       "</div>"
      ],
      "text/plain": [
       "            date      time name  \\\n",
       "386   2021-08-29  01:08:00  NaN   \n",
       "4308  2021-10-05  08:34:00  NaN   \n",
       "7349  2021-11-04  10:13:00  NaN   \n",
       "\n",
       "                                                message  \n",
       "386   💎💎🔥🍷 *DO ACCORDING TO GOD'S WILL* 🌀 Thank u , ...  \n",
       "4308                                    <Media omitted>  \n",
       "7349                                             Omor 😂  "
      ]
     },
     "execution_count": 59,
     "metadata": {},
     "output_type": "execute_result"
    }
   ],
   "source": [
    "df[df['name'].isna()].head(3)"
   ]
  },
  {
   "cell_type": "code",
   "execution_count": 60,
   "id": "0409eb47",
   "metadata": {
    "scrolled": true
   },
   "outputs": [],
   "source": [
    "df = df.dropna(axis=0, subset=['name'])"
   ]
  },
  {
   "cell_type": "markdown",
   "id": "05a4fb3e",
   "metadata": {},
   "source": [
    "### Correct Erroneous Datatype"
   ]
  },
  {
   "cell_type": "code",
   "execution_count": 61,
   "id": "490ccb3a",
   "metadata": {
    "scrolled": true
   },
   "outputs": [],
   "source": [
    "df['date'] = pd.to_datetime(df.date)"
   ]
  },
  {
   "cell_type": "code",
   "execution_count": null,
   "id": "eedeab68",
   "metadata": {},
   "outputs": [],
   "source": []
  },
  {
   "cell_type": "code",
   "execution_count": null,
   "id": "717d631b",
   "metadata": {},
   "outputs": [],
   "source": []
  },
  {
   "cell_type": "markdown",
   "id": "4970e5ca",
   "metadata": {},
   "source": [
    "## Data Visualization"
   ]
  },
  {
   "cell_type": "code",
   "execution_count": 64,
   "id": "7bf89c79",
   "metadata": {},
   "outputs": [],
   "source": [
    "import matplotlib.pyplot as plt\n",
    "import seaborn as sns\n",
    "from matplotlib import rcParams\n",
    "%matplotlib inline"
   ]
  },
  {
   "cell_type": "code",
   "execution_count": 6,
   "id": "4656d1aa",
   "metadata": {},
   "outputs": [],
   "source": [
    "sns.set_style('darkgrid')\n",
    "rcParams['font.size'] = 14\n",
    "rcParams['figure.figsize'] = (9, 5)\n",
    "rcParams['figure.facecolor'] = '#00000000'"
   ]
  },
  {
   "cell_type": "code",
   "execution_count": null,
   "id": "25fbfadd",
   "metadata": {},
   "outputs": [],
   "source": []
  }
 ],
 "metadata": {
  "kernelspec": {
   "display_name": "Python 3 (ipykernel)",
   "language": "python",
   "name": "python3"
  },
  "language_info": {
   "codemirror_mode": {
    "name": "ipython",
    "version": 3
   },
   "file_extension": ".py",
   "mimetype": "text/x-python",
   "name": "python",
   "nbconvert_exporter": "python",
   "pygments_lexer": "ipython3",
   "version": "3.10.6"
  }
 },
 "nbformat": 4,
 "nbformat_minor": 5
}
